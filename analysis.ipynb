{
 "cells": [
  {
   "cell_type": "code",
   "execution_count": 123,
   "source": [
    "import pandas as pd\n",
    "import seaborn as sns\n",
    "import matplotlib.pyplot as plt\n",
    "from matplotlib import rc\n",
    "%matplotlib inline\n",
    "\n",
    "import json\n"
   ],
   "outputs": [],
   "metadata": {}
  },
  {
   "cell_type": "code",
   "execution_count": 124,
   "source": [
    "rc('font', family='AppleGothic')\n",
    "plt.rcParams['axes.unicode_minus'] = False\n"
   ],
   "outputs": [],
   "metadata": {}
  },
  {
   "cell_type": "code",
   "execution_count": 125,
   "source": [
    "with open('data.json') as json_file:\n",
    "    data = json.load(json_file)"
   ],
   "outputs": [],
   "metadata": {}
  },
  {
   "cell_type": "code",
   "execution_count": 126,
   "source": [
    "data"
   ],
   "outputs": [
    {
     "output_type": "execute_result",
     "data": {
      "text/plain": [
       "{'공덕동 스타벅스-kakao': {'final_rating_kakao': 3.3,\n",
       "  'reviews_kakao': [{'rating': 1,\n",
       "    'comment': '출근길이라 바쁜거 이해하고 유독 바쁜 매장 같았는데 그렇다고 서비스직이 서비스 빼고 일하시면 안되죠, JEJE 닉네임 쓰시는 직원분. 10분 이상이 아닌 15분 이상 더 걸렸는데도 제 차례 못찾아줘서 환불한건데 사과+ 미안하다는 눈빛도 없고 처리도 늦게해주시고요 아침부터 개빡쳤습니다',\n",
       "    'date': '2021.06.24.'},\n",
       "   {'rating': 3,\n",
       "    'comment': '와이파이 심각해여... 20분 단위로 끊깁니다 ㅠㅠ',\n",
       "    'date': '2021.05.27.'},\n",
       "   {'rating': 5, 'comment': '', 'date': '2021.02.21.'},\n",
       "   {'rating': 3,\n",
       "    'comment': 'They have a sign of the “excellent store” but sometime I wonder how trustworthy it is. Male baristas are kind and attentive, but one female employee always makes face when I talk in not-so-perfect Kor...',\n",
       "    'date': '2020.12.29.'},\n",
       "   {'rating': 5, 'comment': '굿', 'date': '2020.12.23.'}]},\n",
       " '공덕동 스타벅스-naver': {'final_rating_naver': 4.47,\n",
       "  'reviews_naver': [{'rating': 5.0, 'comment': '친절', 'date': '2021.09.04'},\n",
       "   {'rating': 3.5, 'comment': '친절해요', 'date': '2021.09.02'},\n",
       "   {'rating': 5.0, 'comment': '매장이 넓고 파트너분들이 친절합니다', 'date': '2021.09.01'},\n",
       "   {'rating': 5.0, 'comment': '출근시간에 점심시간에 사람많아요', 'date': '2021.08.31'},\n",
       "   {'rating': 5.0, 'comment': '매우많이친절', 'date': '2021.08.28'},\n",
       "   {'rating': 4.5, 'comment': '굿', 'date': '2021.08.27'},\n",
       "   {'rating': 5.0, 'comment': '좋아요', 'date': '2021.08.27'},\n",
       "   {'rating': 4.5, 'comment': '굿', 'date': '2021.08.26'},\n",
       "   {'rating': 4.5,\n",
       "    'comment': '친절하시고 코로나 수칙도 잘지켜지는 거 같아 안심이 되네요',\n",
       "    'date': '2021.08.25'},\n",
       "   {'rating': 5.0, 'comment': '맛있어요', 'date': '2021.08.24'},\n",
       "   {'rating': 4.0, 'comment': '스벅은 스벅', 'date': '2021.08.24'},\n",
       "   {'rating': 5.0, 'comment': 'ㄴ 좋아요', 'date': '2021.08.23'},\n",
       "   {'rating': 4.5, 'comment': '좋아요.', 'date': '2021.08.23'},\n",
       "   {'rating': 5.0, 'comment': '좋아요', 'date': '2021.08.22'},\n",
       "   {'rating': 5.0, 'comment': '.', 'date': '2021.08.21'},\n",
       "   {'rating': 3.5, 'comment': '좋아요', 'date': '2021.08.19'},\n",
       "   {'rating': 3.5, 'comment': '맛있어요', 'date': '2021.08.16'},\n",
       "   {'rating': 5.0, 'comment': '좋아요', 'date': '2021.08.14'},\n",
       "   {'rating': 5.0,\n",
       "    'comment': '초파리 같은 게 자꾸 음식에 달라붙어서 쫓아내며 먹느라 짜증 났어요. 여름이라 어쩔 수 없는 건 알지만 위생상 좋아 보이지는 않네요.',\n",
       "    'date': '2021.08.13'},\n",
       "   {'rating': 3.0, 'comment': '굿 좋아요', 'date': '2021.08.11'},\n",
       "   {'rating': 5.0, 'comment': '공덕역과 가까워요.', 'date': '2021.08.07'},\n",
       "   {'rating': 5.0, 'comment': '좋아요', 'date': '2021.08.07'},\n",
       "   {'rating': 5.0, 'comment': '너무 잘먹고 갑니다', 'date': '2021.08.06'},\n",
       "   {'rating': 5.0, 'comment': '좋아요', 'date': '2021.08.02'},\n",
       "   {'rating': 4.0, 'comment': '굿', 'date': '2021.08.02'},\n",
       "   {'rating': 5.0, 'comment': '좋아요', 'date': '2021.08.01'},\n",
       "   {'rating': 3.0, 'comment': '좋아요', 'date': '2021.07.30'},\n",
       "   {'rating': 4.0, 'comment': '좋아요', 'date': '2021.07.30'},\n",
       "   {'rating': 4.0, 'comment': '맛있어요 스벅이 짱', 'date': '2021.07.29'},\n",
       "   {'rating': 4.0, 'comment': '점심먹고 가는데 사람이 항상 많아요 ㅎ', 'date': '2021.07.27'},\n",
       "   {'rating': 5.0, 'comment': '맛있어요', 'date': '2021.07.25'},\n",
       "   {'rating': 5.0, 'comment': '화이트초코릿모카 맛있어요', 'date': '2021.07.24'},\n",
       "   {'rating': 4.0, 'comment': '망고바나나 맛있습니다', 'date': '2021.07.22'},\n",
       "   {'rating': 5.0, 'comment': '좋아요', 'date': '2021.07.21'},\n",
       "   {'rating': 5.0, 'comment': '조아요', 'date': '2021.07.20'},\n",
       "   {'rating': 5.0, 'comment': '친절해요', 'date': '2021.07.18'},\n",
       "   {'rating': 5.0, 'comment': '직원분들이 다들 친절하세요! 👍👍👍👍', 'date': '2021.07.17'},\n",
       "   {'rating': 5.0, 'comment': '조아요', 'date': '2021.07.16'},\n",
       "   {'rating': 5.0, 'comment': '스타벅스는 다 비슷하죠 맛있습니다', 'date': '2021.07.15'},\n",
       "   {'rating': 5.0, 'comment': '좋아요', 'date': '2021.07.15'},\n",
       "   {'rating': 4.0, 'comment': '스타벅스', 'date': '2021.07.15'},\n",
       "   {'rating': 5.0,\n",
       "    'comment': '넓은 매장에 사회적거리 두기로 좌석간에 거리 두기가 좋았습니다. 커피말고 적당히 단맛에 시원한 음료 찾으신다면 티바나 메뉴에서 패션후르츠티를 추천드림니다.',\n",
       "    'date': '2021.07.14'},\n",
       "   {'rating': 4.0, 'comment': '공간은 별로지만 디카페인 커피 굳', 'date': '2021.07.14'},\n",
       "   {'rating': 4.0, 'comment': '여름에 시원하고 좋음', 'date': '2021.07.12'},\n",
       "   {'rating': 4.0, 'comment': '조아요', 'date': '2021.07.12'},\n",
       "   {'rating': 5.0,\n",
       "    'comment': '핑크색 랜턴을 찾으러 갔다 받아서 집에오니 블랙이 들어있네요—;; 더운데 다시 가서 바꿔와야해요!!',\n",
       "    'date': '2021.07.11'},\n",
       "   {'rating': 0.5, 'comment': '좋아요', 'date': '2021.07.11'},\n",
       "   {'rating': 4.0, 'comment': '조아요', 'date': '2021.07.11'},\n",
       "   {'rating': 5.0, 'comment': '굿:)', 'date': '2021.07.10'},\n",
       "   {'rating': 5.0, 'comment': '자주 갑니다', 'date': '2021.07.09'},\n",
       "   {'rating': 5.0, 'comment': '조아요', 'date': '2021.07.09'},\n",
       "   {'rating': 5.0, 'comment': '조아요', 'date': '2021.07.09'},\n",
       "   {'rating': 5.0, 'comment': '자주이용해요!', 'date': '2021.07.08'},\n",
       "   {'rating': 5.0,\n",
       "    'comment': '위치 좋고 공간이 넓어서 조용히 차 한잔하기는 좋은데 충전테이블이 별로 없어요',\n",
       "    'date': '2021.07.07'},\n",
       "   {'rating': 4.5, 'comment': '9', 'date': '2021.07.05'},\n",
       "   {'rating': 4.5, 'comment': '친절해요', 'date': '2021.07.05'},\n",
       "   {'rating': 4.0, 'comment': '친절해요', 'date': '2021.07.04'},\n",
       "   {'rating': 4.0, 'comment': '가까워서좋아요', 'date': '2021.07.04'},\n",
       "   {'rating': 5.0, 'comment': '3', 'date': '2021.07.03'},\n",
       "   {'rating': 5.0, 'comment': '쾌적하네요^^', 'date': '2021.07.02'},\n",
       "   {'rating': 5.0, 'comment': '좋아요', 'date': '2021.06.29'},\n",
       "   {'rating': 5.0, 'comment': '조아요', 'date': '2021.06.26'},\n",
       "   {'rating': 5.0, 'comment': '친절해요', 'date': '2021.06.26'},\n",
       "   {'rating': 5.0, 'comment': '좋아요~', 'date': '2021.06.26'},\n",
       "   {'rating': 5.0, 'comment': '친절하고 좋네요', 'date': '2021.06.23'},\n",
       "   {'rating': 5.0, 'comment': '파트너분들 모두 친절합니다', 'date': '2021.06.23'},\n",
       "   {'rating': 5.0, 'comment': '쏘쏘', 'date': '2021.06.22'},\n",
       "   {'rating': 3.0, 'comment': '여름에는 스벅 아이스 커퓌~~👍🏻', 'date': '2021.06.22'},\n",
       "   {'rating': 5.0, 'comment': '굿', 'date': '2021.06.22'},\n",
       "   {'rating': 5.0, 'comment': '.', 'date': '2021.06.22'},\n",
       "   {'rating': 5.0, 'comment': '직원들이 친절하네요', 'date': '2021.06.21'},\n",
       "   {'rating': 5.0, 'comment': '굿', 'date': '2021.06.21'},\n",
       "   {'rating': 4.0, 'comment': '엄청 넓진 않지만 친절해요.', 'date': '2021.06.20'},\n",
       "   {'rating': 3.5, 'comment': '굿', 'date': '2021.06.20'},\n",
       "   {'rating': 5.0, 'comment': '자주이용하고있어요', 'date': '2021.06.16'},\n",
       "   {'rating': 5.0,\n",
       "    'comment': '친절하고 좋아요. 여름이라 그런지 초파리때문에 베이글 먹는게 좀 불편했어요',\n",
       "    'date': '2021.06.14'},\n",
       "   {'rating': 5.0, 'comment': '자주 가고 거의 친절함', 'date': '2021.06.12'},\n",
       "   {'rating': 3.0, 'comment': '좋아요', 'date': '2021.06.10'},\n",
       "   {'rating': 3.5, 'comment': '친절하고 넓어 좋아요', 'date': '2021.06.07'},\n",
       "   {'rating': 5.0, 'comment': '좋아요', 'date': '2021.06.06'},\n",
       "   {'rating': 5.0,\n",
       "    'comment': '매장이 넓진 않지만 공덕역 인근에서는 한가한 편입니다.',\n",
       "    'date': '2021.06.06'},\n",
       "   {'rating': 3.0, 'comment': '좋아요', 'date': '2021.06.06'},\n",
       "   {'rating': 5.0, 'comment': '친전해서좋아요', 'date': '2021.06.06'},\n",
       "   {'rating': 5.0,\n",
       "    'comment': '따듯한 라테 너무 맛난다. 스팀밀크 쫀쫀하고 윤기가 나더라. 거품 양도 적당히 풍성하고 . 내스탈이다. 주말 오후에 남자 직원분이 만든거 였는데. 계속 이 매장에서 근무하시길. 같은 매장이레도 라테 는 만든 사람에 따라 맛 차이가 많이나서 실력 좋은 사람들이 계속 근무했음 좋겠다',\n",
       "    'date': '2021.06.05'},\n",
       "   {'rating': 5.0, 'comment': 'ㄱㅊ', 'date': '2021.06.05'},\n",
       "   {'rating': 5.0, 'comment': '굿', 'date': '2021.06.05'},\n",
       "   {'rating': 5.0, 'comment': '굿', 'date': '2021.06.04'},\n",
       "   {'rating': 4.0, 'comment': '와우~~ 새로운 스벅매장 발견~~ 좋아요~', 'date': '2021.06.01'},\n",
       "   {'rating': 5.0, 'comment': '매장이 넓지 않지만 덜 붐벼요.', 'date': '2021.05.31'},\n",
       "   {'rating': 4.0, 'comment': '편하게 마시고왔어요', 'date': '2021.05.31'},\n",
       "   {'rating': 5.0, 'comment': '굿', 'date': '2021.05.30'},\n",
       "   {'rating': 4.0,\n",
       "    'comment': '민트초콜릿칩 블렌디드 팔도라구요! ^-^ 시원한 맛~~',\n",
       "    'date': '2021.05.28'},\n",
       "   {'rating': 4.0, 'comment': '매장이 넓지 않지만 사람이 덜 붐빕니다.', 'date': '2021.05.28'},\n",
       "   {'rating': 5.0, 'comment': '친절합니다', 'date': '2021.05.27'},\n",
       "   {'rating': 5.0, 'comment': '좋아요~~', 'date': '2021.05.22'},\n",
       "   {'rating': 5.0, 'comment': '스벅 레드벨벳 케익 강추!', 'date': '2021.05.21'},\n",
       "   {'rating': 4.0, 'comment': '친절하세요^^', 'date': '2021.05.21'},\n",
       "   {'rating': 5.0, 'comment': '좋아요', 'date': '2021.05.20'},\n",
       "   {'rating': 5.0, 'comment': '친절하세요', 'date': '2021.05.19'},\n",
       "   {'rating': 4.0, 'comment': '친절하고 좋습니다.', 'date': '2021.05.19'}]}}"
      ]
     },
     "metadata": {},
     "execution_count": 126
    }
   ],
   "metadata": {}
  },
  {
   "cell_type": "code",
   "execution_count": 127,
   "source": [
    "kakao = data['프릳츠 도화점-kakao']\n",
    "naver = data['프릳츠 도화점-naver']\n",
    "reviews_kakao = kakao['reviews_kakao']\n",
    "reviews_naver = naver['reviews_naver']\n"
   ],
   "outputs": [],
   "metadata": {}
  },
  {
   "cell_type": "code",
   "execution_count": 128,
   "source": [
    "reviews_kakao"
   ],
   "outputs": [
    {
     "output_type": "execute_result",
     "data": {
      "text/plain": [
       "[{'rating': 1,\n",
       "  'comment': '출근길이라 바쁜거 이해하고 유독 바쁜 매장 같았는데 그렇다고 서비스직이 서비스 빼고 일하시면 안되죠, JEJE 닉네임 쓰시는 직원분. 10분 이상이 아닌 15분 이상 더 걸렸는데도 제 차례 못찾아줘서 환불한건데 사과+ 미안하다는 눈빛도 없고 처리도 늦게해주시고요 아침부터 개빡쳤습니다',\n",
       "  'date': '2021.06.24.'},\n",
       " {'rating': 3,\n",
       "  'comment': '와이파이 심각해여... 20분 단위로 끊깁니다 ㅠㅠ',\n",
       "  'date': '2021.05.27.'},\n",
       " {'rating': 5, 'comment': '', 'date': '2021.02.21.'},\n",
       " {'rating': 3,\n",
       "  'comment': 'They have a sign of the “excellent store” but sometime I wonder how trustworthy it is. Male baristas are kind and attentive, but one female employee always makes face when I talk in not-so-perfect Kor...',\n",
       "  'date': '2020.12.29.'},\n",
       " {'rating': 5, 'comment': '굿', 'date': '2020.12.23.'}]"
      ]
     },
     "metadata": {},
     "execution_count": 128
    }
   ],
   "metadata": {}
  },
  {
   "cell_type": "code",
   "execution_count": 129,
   "source": [
    "df_kakao = pd.DataFrame(reviews_kakao)\n",
    "df_naver = pd.DataFrame(reviews_naver)\n"
   ],
   "outputs": [],
   "metadata": {}
  },
  {
   "cell_type": "code",
   "execution_count": 130,
   "source": [
    "df_kakao"
   ],
   "outputs": [
    {
     "output_type": "execute_result",
     "data": {
      "text/html": [
       "<div>\n",
       "<style scoped>\n",
       "    .dataframe tbody tr th:only-of-type {\n",
       "        vertical-align: middle;\n",
       "    }\n",
       "\n",
       "    .dataframe tbody tr th {\n",
       "        vertical-align: top;\n",
       "    }\n",
       "\n",
       "    .dataframe thead th {\n",
       "        text-align: right;\n",
       "    }\n",
       "</style>\n",
       "<table border=\"1\" class=\"dataframe\">\n",
       "  <thead>\n",
       "    <tr style=\"text-align: right;\">\n",
       "      <th></th>\n",
       "      <th>rating</th>\n",
       "      <th>comment</th>\n",
       "      <th>date</th>\n",
       "    </tr>\n",
       "  </thead>\n",
       "  <tbody>\n",
       "    <tr>\n",
       "      <th>0</th>\n",
       "      <td>1</td>\n",
       "      <td>출근길이라 바쁜거 이해하고 유독 바쁜 매장 같았는데 그렇다고 서비스직이 서비스 빼고...</td>\n",
       "      <td>2021.06.24.</td>\n",
       "    </tr>\n",
       "    <tr>\n",
       "      <th>1</th>\n",
       "      <td>3</td>\n",
       "      <td>와이파이 심각해여... 20분 단위로 끊깁니다 ㅠㅠ</td>\n",
       "      <td>2021.05.27.</td>\n",
       "    </tr>\n",
       "    <tr>\n",
       "      <th>2</th>\n",
       "      <td>5</td>\n",
       "      <td></td>\n",
       "      <td>2021.02.21.</td>\n",
       "    </tr>\n",
       "    <tr>\n",
       "      <th>3</th>\n",
       "      <td>3</td>\n",
       "      <td>They have a sign of the “excellent store” but ...</td>\n",
       "      <td>2020.12.29.</td>\n",
       "    </tr>\n",
       "    <tr>\n",
       "      <th>4</th>\n",
       "      <td>5</td>\n",
       "      <td>굿</td>\n",
       "      <td>2020.12.23.</td>\n",
       "    </tr>\n",
       "  </tbody>\n",
       "</table>\n",
       "</div>"
      ],
      "text/plain": [
       "   rating                                            comment         date\n",
       "0       1  출근길이라 바쁜거 이해하고 유독 바쁜 매장 같았는데 그렇다고 서비스직이 서비스 빼고...  2021.06.24.\n",
       "1       3                       와이파이 심각해여... 20분 단위로 끊깁니다 ㅠㅠ  2021.05.27.\n",
       "2       5                                                     2021.02.21.\n",
       "3       3  They have a sign of the “excellent store” but ...  2020.12.29.\n",
       "4       5                                                  굿  2020.12.23."
      ]
     },
     "metadata": {},
     "execution_count": 130
    }
   ],
   "metadata": {}
  },
  {
   "cell_type": "code",
   "execution_count": 131,
   "source": [
    "df_naver"
   ],
   "outputs": [
    {
     "output_type": "execute_result",
     "data": {
      "text/html": [
       "<div>\n",
       "<style scoped>\n",
       "    .dataframe tbody tr th:only-of-type {\n",
       "        vertical-align: middle;\n",
       "    }\n",
       "\n",
       "    .dataframe tbody tr th {\n",
       "        vertical-align: top;\n",
       "    }\n",
       "\n",
       "    .dataframe thead th {\n",
       "        text-align: right;\n",
       "    }\n",
       "</style>\n",
       "<table border=\"1\" class=\"dataframe\">\n",
       "  <thead>\n",
       "    <tr style=\"text-align: right;\">\n",
       "      <th></th>\n",
       "      <th>rating</th>\n",
       "      <th>comment</th>\n",
       "      <th>date</th>\n",
       "    </tr>\n",
       "  </thead>\n",
       "  <tbody>\n",
       "    <tr>\n",
       "      <th>0</th>\n",
       "      <td>5.0</td>\n",
       "      <td>친절</td>\n",
       "      <td>2021.09.04</td>\n",
       "    </tr>\n",
       "    <tr>\n",
       "      <th>1</th>\n",
       "      <td>3.5</td>\n",
       "      <td>친절해요</td>\n",
       "      <td>2021.09.02</td>\n",
       "    </tr>\n",
       "    <tr>\n",
       "      <th>2</th>\n",
       "      <td>5.0</td>\n",
       "      <td>매장이 넓고 파트너분들이 친절합니다</td>\n",
       "      <td>2021.09.01</td>\n",
       "    </tr>\n",
       "    <tr>\n",
       "      <th>3</th>\n",
       "      <td>5.0</td>\n",
       "      <td>출근시간에 점심시간에 사람많아요</td>\n",
       "      <td>2021.08.31</td>\n",
       "    </tr>\n",
       "    <tr>\n",
       "      <th>4</th>\n",
       "      <td>5.0</td>\n",
       "      <td>매우많이친절</td>\n",
       "      <td>2021.08.28</td>\n",
       "    </tr>\n",
       "    <tr>\n",
       "      <th>...</th>\n",
       "      <td>...</td>\n",
       "      <td>...</td>\n",
       "      <td>...</td>\n",
       "    </tr>\n",
       "    <tr>\n",
       "      <th>95</th>\n",
       "      <td>5.0</td>\n",
       "      <td>스벅 레드벨벳 케익 강추!</td>\n",
       "      <td>2021.05.21</td>\n",
       "    </tr>\n",
       "    <tr>\n",
       "      <th>96</th>\n",
       "      <td>4.0</td>\n",
       "      <td>친절하세요^^</td>\n",
       "      <td>2021.05.21</td>\n",
       "    </tr>\n",
       "    <tr>\n",
       "      <th>97</th>\n",
       "      <td>5.0</td>\n",
       "      <td>좋아요</td>\n",
       "      <td>2021.05.20</td>\n",
       "    </tr>\n",
       "    <tr>\n",
       "      <th>98</th>\n",
       "      <td>5.0</td>\n",
       "      <td>친절하세요</td>\n",
       "      <td>2021.05.19</td>\n",
       "    </tr>\n",
       "    <tr>\n",
       "      <th>99</th>\n",
       "      <td>4.0</td>\n",
       "      <td>친절하고 좋습니다.</td>\n",
       "      <td>2021.05.19</td>\n",
       "    </tr>\n",
       "  </tbody>\n",
       "</table>\n",
       "<p>100 rows × 3 columns</p>\n",
       "</div>"
      ],
      "text/plain": [
       "    rating              comment        date\n",
       "0      5.0                   친절  2021.09.04\n",
       "1      3.5                 친절해요  2021.09.02\n",
       "2      5.0  매장이 넓고 파트너분들이 친절합니다  2021.09.01\n",
       "3      5.0    출근시간에 점심시간에 사람많아요  2021.08.31\n",
       "4      5.0               매우많이친절  2021.08.28\n",
       "..     ...                  ...         ...\n",
       "95     5.0       스벅 레드벨벳 케익 강추!  2021.05.21\n",
       "96     4.0              친절하세요^^  2021.05.21\n",
       "97     5.0                  좋아요  2021.05.20\n",
       "98     5.0                친절하세요  2021.05.19\n",
       "99     4.0           친절하고 좋습니다.  2021.05.19\n",
       "\n",
       "[100 rows x 3 columns]"
      ]
     },
     "metadata": {},
     "execution_count": 131
    }
   ],
   "metadata": {}
  },
  {
   "cell_type": "code",
   "execution_count": 132,
   "source": [
    "df_kakao['web'] = 'kakao'\n",
    "df_naver['web'] = 'naver'\n",
    "df_kakao['final_rating'] = kakao['final_rating_kakao']\n",
    "df_naver['final_rating'] = naver['final_rating_naver']\n"
   ],
   "outputs": [],
   "metadata": {}
  },
  {
   "cell_type": "code",
   "execution_count": 133,
   "source": [
    "df_kakao.head(3)"
   ],
   "outputs": [
    {
     "output_type": "execute_result",
     "data": {
      "text/html": [
       "<div>\n",
       "<style scoped>\n",
       "    .dataframe tbody tr th:only-of-type {\n",
       "        vertical-align: middle;\n",
       "    }\n",
       "\n",
       "    .dataframe tbody tr th {\n",
       "        vertical-align: top;\n",
       "    }\n",
       "\n",
       "    .dataframe thead th {\n",
       "        text-align: right;\n",
       "    }\n",
       "</style>\n",
       "<table border=\"1\" class=\"dataframe\">\n",
       "  <thead>\n",
       "    <tr style=\"text-align: right;\">\n",
       "      <th></th>\n",
       "      <th>rating</th>\n",
       "      <th>comment</th>\n",
       "      <th>date</th>\n",
       "      <th>web</th>\n",
       "      <th>final_rating</th>\n",
       "    </tr>\n",
       "  </thead>\n",
       "  <tbody>\n",
       "    <tr>\n",
       "      <th>0</th>\n",
       "      <td>1</td>\n",
       "      <td>출근길이라 바쁜거 이해하고 유독 바쁜 매장 같았는데 그렇다고 서비스직이 서비스 빼고...</td>\n",
       "      <td>2021.06.24.</td>\n",
       "      <td>kakao</td>\n",
       "      <td>3.3</td>\n",
       "    </tr>\n",
       "    <tr>\n",
       "      <th>1</th>\n",
       "      <td>3</td>\n",
       "      <td>와이파이 심각해여... 20분 단위로 끊깁니다 ㅠㅠ</td>\n",
       "      <td>2021.05.27.</td>\n",
       "      <td>kakao</td>\n",
       "      <td>3.3</td>\n",
       "    </tr>\n",
       "    <tr>\n",
       "      <th>2</th>\n",
       "      <td>5</td>\n",
       "      <td></td>\n",
       "      <td>2021.02.21.</td>\n",
       "      <td>kakao</td>\n",
       "      <td>3.3</td>\n",
       "    </tr>\n",
       "  </tbody>\n",
       "</table>\n",
       "</div>"
      ],
      "text/plain": [
       "   rating                                            comment         date  \\\n",
       "0       1  출근길이라 바쁜거 이해하고 유독 바쁜 매장 같았는데 그렇다고 서비스직이 서비스 빼고...  2021.06.24.   \n",
       "1       3                       와이파이 심각해여... 20분 단위로 끊깁니다 ㅠㅠ  2021.05.27.   \n",
       "2       5                                                     2021.02.21.   \n",
       "\n",
       "     web  final_rating  \n",
       "0  kakao           3.3  \n",
       "1  kakao           3.3  \n",
       "2  kakao           3.3  "
      ]
     },
     "metadata": {},
     "execution_count": 133
    }
   ],
   "metadata": {}
  },
  {
   "cell_type": "code",
   "execution_count": 134,
   "source": [
    "def delete_end_dot(i):\n",
    "    i = i[:-1]\n",
    "    return i\n",
    "\n",
    "df_kakao['date'] = df_kakao['date'].apply(delete_end_dot)\n",
    "\n",
    "df_kakao.head(3)"
   ],
   "outputs": [
    {
     "output_type": "execute_result",
     "data": {
      "text/html": [
       "<div>\n",
       "<style scoped>\n",
       "    .dataframe tbody tr th:only-of-type {\n",
       "        vertical-align: middle;\n",
       "    }\n",
       "\n",
       "    .dataframe tbody tr th {\n",
       "        vertical-align: top;\n",
       "    }\n",
       "\n",
       "    .dataframe thead th {\n",
       "        text-align: right;\n",
       "    }\n",
       "</style>\n",
       "<table border=\"1\" class=\"dataframe\">\n",
       "  <thead>\n",
       "    <tr style=\"text-align: right;\">\n",
       "      <th></th>\n",
       "      <th>rating</th>\n",
       "      <th>comment</th>\n",
       "      <th>date</th>\n",
       "      <th>web</th>\n",
       "      <th>final_rating</th>\n",
       "    </tr>\n",
       "  </thead>\n",
       "  <tbody>\n",
       "    <tr>\n",
       "      <th>0</th>\n",
       "      <td>1</td>\n",
       "      <td>출근길이라 바쁜거 이해하고 유독 바쁜 매장 같았는데 그렇다고 서비스직이 서비스 빼고...</td>\n",
       "      <td>2021.06.24</td>\n",
       "      <td>kakao</td>\n",
       "      <td>3.3</td>\n",
       "    </tr>\n",
       "    <tr>\n",
       "      <th>1</th>\n",
       "      <td>3</td>\n",
       "      <td>와이파이 심각해여... 20분 단위로 끊깁니다 ㅠㅠ</td>\n",
       "      <td>2021.05.27</td>\n",
       "      <td>kakao</td>\n",
       "      <td>3.3</td>\n",
       "    </tr>\n",
       "    <tr>\n",
       "      <th>2</th>\n",
       "      <td>5</td>\n",
       "      <td></td>\n",
       "      <td>2021.02.21</td>\n",
       "      <td>kakao</td>\n",
       "      <td>3.3</td>\n",
       "    </tr>\n",
       "  </tbody>\n",
       "</table>\n",
       "</div>"
      ],
      "text/plain": [
       "   rating                                            comment        date  \\\n",
       "0       1  출근길이라 바쁜거 이해하고 유독 바쁜 매장 같았는데 그렇다고 서비스직이 서비스 빼고...  2021.06.24   \n",
       "1       3                       와이파이 심각해여... 20분 단위로 끊깁니다 ㅠㅠ  2021.05.27   \n",
       "2       5                                                     2021.02.21   \n",
       "\n",
       "     web  final_rating  \n",
       "0  kakao           3.3  \n",
       "1  kakao           3.3  \n",
       "2  kakao           3.3  "
      ]
     },
     "metadata": {},
     "execution_count": 134
    }
   ],
   "metadata": {}
  },
  {
   "cell_type": "code",
   "execution_count": 135,
   "source": [
    "df_naver.head(3)\n"
   ],
   "outputs": [
    {
     "output_type": "execute_result",
     "data": {
      "text/html": [
       "<div>\n",
       "<style scoped>\n",
       "    .dataframe tbody tr th:only-of-type {\n",
       "        vertical-align: middle;\n",
       "    }\n",
       "\n",
       "    .dataframe tbody tr th {\n",
       "        vertical-align: top;\n",
       "    }\n",
       "\n",
       "    .dataframe thead th {\n",
       "        text-align: right;\n",
       "    }\n",
       "</style>\n",
       "<table border=\"1\" class=\"dataframe\">\n",
       "  <thead>\n",
       "    <tr style=\"text-align: right;\">\n",
       "      <th></th>\n",
       "      <th>rating</th>\n",
       "      <th>comment</th>\n",
       "      <th>date</th>\n",
       "      <th>web</th>\n",
       "      <th>final_rating</th>\n",
       "    </tr>\n",
       "  </thead>\n",
       "  <tbody>\n",
       "    <tr>\n",
       "      <th>0</th>\n",
       "      <td>5.0</td>\n",
       "      <td>친절</td>\n",
       "      <td>2021.09.04</td>\n",
       "      <td>naver</td>\n",
       "      <td>4.47</td>\n",
       "    </tr>\n",
       "    <tr>\n",
       "      <th>1</th>\n",
       "      <td>3.5</td>\n",
       "      <td>친절해요</td>\n",
       "      <td>2021.09.02</td>\n",
       "      <td>naver</td>\n",
       "      <td>4.47</td>\n",
       "    </tr>\n",
       "    <tr>\n",
       "      <th>2</th>\n",
       "      <td>5.0</td>\n",
       "      <td>매장이 넓고 파트너분들이 친절합니다</td>\n",
       "      <td>2021.09.01</td>\n",
       "      <td>naver</td>\n",
       "      <td>4.47</td>\n",
       "    </tr>\n",
       "  </tbody>\n",
       "</table>\n",
       "</div>"
      ],
      "text/plain": [
       "   rating              comment        date    web  final_rating\n",
       "0     5.0                   친절  2021.09.04  naver          4.47\n",
       "1     3.5                 친절해요  2021.09.02  naver          4.47\n",
       "2     5.0  매장이 넓고 파트너분들이 친절합니다  2021.09.01  naver          4.47"
      ]
     },
     "metadata": {},
     "execution_count": 135
    }
   ],
   "metadata": {}
  },
  {
   "cell_type": "code",
   "execution_count": null,
   "source": [
    "print('카카오 shape', df_kakao.shape)\n",
    "print('네이버 shape', df_naver.shape)\n"
   ],
   "outputs": [],
   "metadata": {}
  },
  {
   "cell_type": "code",
   "execution_count": 136,
   "source": [
    "df = pd.concat([df_kakao, df_naver], axis=0)\n"
   ],
   "outputs": [],
   "metadata": {}
  },
  {
   "cell_type": "code",
   "execution_count": 137,
   "source": [
    "df"
   ],
   "outputs": [
    {
     "output_type": "execute_result",
     "data": {
      "text/html": [
       "<div>\n",
       "<style scoped>\n",
       "    .dataframe tbody tr th:only-of-type {\n",
       "        vertical-align: middle;\n",
       "    }\n",
       "\n",
       "    .dataframe tbody tr th {\n",
       "        vertical-align: top;\n",
       "    }\n",
       "\n",
       "    .dataframe thead th {\n",
       "        text-align: right;\n",
       "    }\n",
       "</style>\n",
       "<table border=\"1\" class=\"dataframe\">\n",
       "  <thead>\n",
       "    <tr style=\"text-align: right;\">\n",
       "      <th></th>\n",
       "      <th>rating</th>\n",
       "      <th>comment</th>\n",
       "      <th>date</th>\n",
       "      <th>web</th>\n",
       "      <th>final_rating</th>\n",
       "    </tr>\n",
       "  </thead>\n",
       "  <tbody>\n",
       "    <tr>\n",
       "      <th>0</th>\n",
       "      <td>1.0</td>\n",
       "      <td>출근길이라 바쁜거 이해하고 유독 바쁜 매장 같았는데 그렇다고 서비스직이 서비스 빼고...</td>\n",
       "      <td>2021.06.24</td>\n",
       "      <td>kakao</td>\n",
       "      <td>3.30</td>\n",
       "    </tr>\n",
       "    <tr>\n",
       "      <th>1</th>\n",
       "      <td>3.0</td>\n",
       "      <td>와이파이 심각해여... 20분 단위로 끊깁니다 ㅠㅠ</td>\n",
       "      <td>2021.05.27</td>\n",
       "      <td>kakao</td>\n",
       "      <td>3.30</td>\n",
       "    </tr>\n",
       "    <tr>\n",
       "      <th>2</th>\n",
       "      <td>5.0</td>\n",
       "      <td></td>\n",
       "      <td>2021.02.21</td>\n",
       "      <td>kakao</td>\n",
       "      <td>3.30</td>\n",
       "    </tr>\n",
       "    <tr>\n",
       "      <th>3</th>\n",
       "      <td>3.0</td>\n",
       "      <td>They have a sign of the “excellent store” but ...</td>\n",
       "      <td>2020.12.29</td>\n",
       "      <td>kakao</td>\n",
       "      <td>3.30</td>\n",
       "    </tr>\n",
       "    <tr>\n",
       "      <th>4</th>\n",
       "      <td>5.0</td>\n",
       "      <td>굿</td>\n",
       "      <td>2020.12.23</td>\n",
       "      <td>kakao</td>\n",
       "      <td>3.30</td>\n",
       "    </tr>\n",
       "    <tr>\n",
       "      <th>...</th>\n",
       "      <td>...</td>\n",
       "      <td>...</td>\n",
       "      <td>...</td>\n",
       "      <td>...</td>\n",
       "      <td>...</td>\n",
       "    </tr>\n",
       "    <tr>\n",
       "      <th>95</th>\n",
       "      <td>5.0</td>\n",
       "      <td>스벅 레드벨벳 케익 강추!</td>\n",
       "      <td>2021.05.21</td>\n",
       "      <td>naver</td>\n",
       "      <td>4.47</td>\n",
       "    </tr>\n",
       "    <tr>\n",
       "      <th>96</th>\n",
       "      <td>4.0</td>\n",
       "      <td>친절하세요^^</td>\n",
       "      <td>2021.05.21</td>\n",
       "      <td>naver</td>\n",
       "      <td>4.47</td>\n",
       "    </tr>\n",
       "    <tr>\n",
       "      <th>97</th>\n",
       "      <td>5.0</td>\n",
       "      <td>좋아요</td>\n",
       "      <td>2021.05.20</td>\n",
       "      <td>naver</td>\n",
       "      <td>4.47</td>\n",
       "    </tr>\n",
       "    <tr>\n",
       "      <th>98</th>\n",
       "      <td>5.0</td>\n",
       "      <td>친절하세요</td>\n",
       "      <td>2021.05.19</td>\n",
       "      <td>naver</td>\n",
       "      <td>4.47</td>\n",
       "    </tr>\n",
       "    <tr>\n",
       "      <th>99</th>\n",
       "      <td>4.0</td>\n",
       "      <td>친절하고 좋습니다.</td>\n",
       "      <td>2021.05.19</td>\n",
       "      <td>naver</td>\n",
       "      <td>4.47</td>\n",
       "    </tr>\n",
       "  </tbody>\n",
       "</table>\n",
       "<p>105 rows × 5 columns</p>\n",
       "</div>"
      ],
      "text/plain": [
       "    rating                                            comment        date  \\\n",
       "0      1.0  출근길이라 바쁜거 이해하고 유독 바쁜 매장 같았는데 그렇다고 서비스직이 서비스 빼고...  2021.06.24   \n",
       "1      3.0                       와이파이 심각해여... 20분 단위로 끊깁니다 ㅠㅠ  2021.05.27   \n",
       "2      5.0                                                     2021.02.21   \n",
       "3      3.0  They have a sign of the “excellent store” but ...  2020.12.29   \n",
       "4      5.0                                                  굿  2020.12.23   \n",
       "..     ...                                                ...         ...   \n",
       "95     5.0                                     스벅 레드벨벳 케익 강추!  2021.05.21   \n",
       "96     4.0                                            친절하세요^^  2021.05.21   \n",
       "97     5.0                                                좋아요  2021.05.20   \n",
       "98     5.0                                              친절하세요  2021.05.19   \n",
       "99     4.0                                         친절하고 좋습니다.  2021.05.19   \n",
       "\n",
       "      web  final_rating  \n",
       "0   kakao          3.30  \n",
       "1   kakao          3.30  \n",
       "2   kakao          3.30  \n",
       "3   kakao          3.30  \n",
       "4   kakao          3.30  \n",
       "..    ...           ...  \n",
       "95  naver          4.47  \n",
       "96  naver          4.47  \n",
       "97  naver          4.47  \n",
       "98  naver          4.47  \n",
       "99  naver          4.47  \n",
       "\n",
       "[105 rows x 5 columns]"
      ]
     },
     "metadata": {},
     "execution_count": 137
    }
   ],
   "metadata": {}
  },
  {
   "cell_type": "code",
   "execution_count": null,
   "source": [
    "df = df.duplicated().sum()"
   ],
   "outputs": [],
   "metadata": {}
  },
  {
   "cell_type": "code",
   "execution_count": null,
   "source": [
    "df =df.drop_duplicates()"
   ],
   "outputs": [],
   "metadata": {}
  },
  {
   "cell_type": "code",
   "execution_count": null,
   "source": [
    "# 재확인\n",
    "df.duplicated().sum()"
   ],
   "outputs": [],
   "metadata": {}
  },
  {
   "cell_type": "code",
   "execution_count": 138,
   "source": [
    "df.info()"
   ],
   "outputs": [
    {
     "output_type": "stream",
     "name": "stdout",
     "text": [
      "<class 'pandas.core.frame.DataFrame'>\n",
      "Int64Index: 105 entries, 0 to 99\n",
      "Data columns (total 5 columns):\n",
      " #   Column        Non-Null Count  Dtype  \n",
      "---  ------        --------------  -----  \n",
      " 0   rating        105 non-null    float64\n",
      " 1   comment       105 non-null    object \n",
      " 2   date          105 non-null    object \n",
      " 3   web           105 non-null    object \n",
      " 4   final_rating  105 non-null    float64\n",
      "dtypes: float64(2), object(3)\n",
      "memory usage: 4.9+ KB\n"
     ]
    }
   ],
   "metadata": {}
  },
  {
   "cell_type": "markdown",
   "source": [
    "### 비교할 것 \n",
    "1. final-rating 차이\n",
    "2. website별 rating 분포\n",
    "3. website별 comment 길이\n",
    "4. website별 날짜 분포\n"
   ],
   "metadata": {}
  },
  {
   "cell_type": "markdown",
   "source": [
    "**date의 type 변경(to datetime)**"
   ],
   "metadata": {}
  },
  {
   "cell_type": "code",
   "execution_count": 139,
   "source": [
    "df['date'] = pd.to_datetime(df['date'], format=\"%Y-%m-%d\")\n",
    "df.info()\n"
   ],
   "outputs": [
    {
     "output_type": "stream",
     "name": "stdout",
     "text": [
      "<class 'pandas.core.frame.DataFrame'>\n",
      "Int64Index: 105 entries, 0 to 99\n",
      "Data columns (total 5 columns):\n",
      " #   Column        Non-Null Count  Dtype         \n",
      "---  ------        --------------  -----         \n",
      " 0   rating        105 non-null    float64       \n",
      " 1   comment       105 non-null    object        \n",
      " 2   date          105 non-null    datetime64[ns]\n",
      " 3   web           105 non-null    object        \n",
      " 4   final_rating  105 non-null    float64       \n",
      "dtypes: datetime64[ns](1), float64(2), object(2)\n",
      "memory usage: 4.9+ KB\n"
     ]
    }
   ],
   "metadata": {}
  },
  {
   "cell_type": "code",
   "execution_count": 140,
   "source": [
    "df.tail(3)"
   ],
   "outputs": [
    {
     "output_type": "execute_result",
     "data": {
      "text/html": [
       "<div>\n",
       "<style scoped>\n",
       "    .dataframe tbody tr th:only-of-type {\n",
       "        vertical-align: middle;\n",
       "    }\n",
       "\n",
       "    .dataframe tbody tr th {\n",
       "        vertical-align: top;\n",
       "    }\n",
       "\n",
       "    .dataframe thead th {\n",
       "        text-align: right;\n",
       "    }\n",
       "</style>\n",
       "<table border=\"1\" class=\"dataframe\">\n",
       "  <thead>\n",
       "    <tr style=\"text-align: right;\">\n",
       "      <th></th>\n",
       "      <th>rating</th>\n",
       "      <th>comment</th>\n",
       "      <th>date</th>\n",
       "      <th>web</th>\n",
       "      <th>final_rating</th>\n",
       "    </tr>\n",
       "  </thead>\n",
       "  <tbody>\n",
       "    <tr>\n",
       "      <th>97</th>\n",
       "      <td>5.0</td>\n",
       "      <td>좋아요</td>\n",
       "      <td>2021-05-20</td>\n",
       "      <td>naver</td>\n",
       "      <td>4.47</td>\n",
       "    </tr>\n",
       "    <tr>\n",
       "      <th>98</th>\n",
       "      <td>5.0</td>\n",
       "      <td>친절하세요</td>\n",
       "      <td>2021-05-19</td>\n",
       "      <td>naver</td>\n",
       "      <td>4.47</td>\n",
       "    </tr>\n",
       "    <tr>\n",
       "      <th>99</th>\n",
       "      <td>4.0</td>\n",
       "      <td>친절하고 좋습니다.</td>\n",
       "      <td>2021-05-19</td>\n",
       "      <td>naver</td>\n",
       "      <td>4.47</td>\n",
       "    </tr>\n",
       "  </tbody>\n",
       "</table>\n",
       "</div>"
      ],
      "text/plain": [
       "    rating     comment       date    web  final_rating\n",
       "97     5.0         좋아요 2021-05-20  naver          4.47\n",
       "98     5.0       친절하세요 2021-05-19  naver          4.47\n",
       "99     4.0  친절하고 좋습니다. 2021-05-19  naver          4.47"
      ]
     },
     "metadata": {},
     "execution_count": 140
    }
   ],
   "metadata": {}
  },
  {
   "cell_type": "markdown",
   "source": [
    "1. final-rating 차이"
   ],
   "metadata": {}
  },
  {
   "cell_type": "code",
   "execution_count": 141,
   "source": [
    "plt.figure(figsize=(7, 4))\n",
    "fig, ax = plt.subplots()\n",
    "sns.barplot('web', 'final_rating', ax=ax, data=df)\n",
    "ax.set_title(\"두 웹사이트의 최종평점 비교\")\n",
    "ax.set_xlabel(\"사이트 이름\")\n",
    "ax.set_ylabel(\"최종 평점\")"
   ],
   "outputs": [
    {
     "output_type": "stream",
     "name": "stderr",
     "text": [
      "/Library/Frameworks/Python.framework/Versions/3.8/lib/python3.8/site-packages/seaborn/_decorators.py:36: FutureWarning: Pass the following variables as keyword args: x, y. From version 0.12, the only valid positional argument will be `data`, and passing other arguments without an explicit keyword will result in an error or misinterpretation.\n",
      "  warnings.warn(\n"
     ]
    },
    {
     "output_type": "execute_result",
     "data": {
      "text/plain": [
       "Text(0, 0.5, '최종 평점')"
      ]
     },
     "metadata": {},
     "execution_count": 141
    },
    {
     "output_type": "display_data",
     "data": {
      "text/plain": [
       "<Figure size 504x288 with 0 Axes>"
      ]
     },
     "metadata": {}
    },
    {
     "output_type": "display_data",
     "data": {
      "image/png": "[encoded data removed]",
      "text/plain": [
       "<Figure size 432x288 with 1 Axes>"
      ]
     },
     "metadata": {
      "needs_background": "light"
     }
    }
   ],
   "metadata": {}
  },
  {
   "cell_type": "markdown",
   "source": [
    "2. website별 rating 분포"
   ],
   "metadata": {}
  },
  {
   "cell_type": "code",
   "execution_count": 142,
   "source": [
    "rating_by_website = df[['rating', 'web']]\n",
    "rating_by_website.head(3)\n"
   ],
   "outputs": [
    {
     "output_type": "execute_result",
     "data": {
      "text/html": [
       "<div>\n",
       "<style scoped>\n",
       "    .dataframe tbody tr th:only-of-type {\n",
       "        vertical-align: middle;\n",
       "    }\n",
       "\n",
       "    .dataframe tbody tr th {\n",
       "        vertical-align: top;\n",
       "    }\n",
       "\n",
       "    .dataframe thead th {\n",
       "        text-align: right;\n",
       "    }\n",
       "</style>\n",
       "<table border=\"1\" class=\"dataframe\">\n",
       "  <thead>\n",
       "    <tr style=\"text-align: right;\">\n",
       "      <th></th>\n",
       "      <th>rating</th>\n",
       "      <th>web</th>\n",
       "    </tr>\n",
       "  </thead>\n",
       "  <tbody>\n",
       "    <tr>\n",
       "      <th>0</th>\n",
       "      <td>1.0</td>\n",
       "      <td>kakao</td>\n",
       "    </tr>\n",
       "    <tr>\n",
       "      <th>1</th>\n",
       "      <td>3.0</td>\n",
       "      <td>kakao</td>\n",
       "    </tr>\n",
       "    <tr>\n",
       "      <th>2</th>\n",
       "      <td>5.0</td>\n",
       "      <td>kakao</td>\n",
       "    </tr>\n",
       "  </tbody>\n",
       "</table>\n",
       "</div>"
      ],
      "text/plain": [
       "   rating    web\n",
       "0     1.0  kakao\n",
       "1     3.0  kakao\n",
       "2     5.0  kakao"
      ]
     },
     "metadata": {},
     "execution_count": 142
    }
   ],
   "metadata": {}
  },
  {
   "cell_type": "code",
   "execution_count": 143,
   "source": [
    "plt.figure(figsize=(7, 4))\n",
    "fig, ax = plt.subplots()\n",
    "sns.violinplot(x=\"web\", y=\"rating\", data=rating_by_website, ax=ax)\n",
    "ax.set_title(\"두 웹사이트의 평점 분포 비교\")\n"
   ],
   "outputs": [
    {
     "output_type": "execute_result",
     "data": {
      "text/plain": [
       "Text(0.5, 1.0, '두 웹사이트의 평점 분포 비교')"
      ]
     },
     "metadata": {},
     "execution_count": 143
    },
    {
     "output_type": "display_data",
     "data": {
      "text/plain": [
       "<Figure size 504x288 with 0 Axes>"
      ]
     },
     "metadata": {}
    },
    {
     "output_type": "display_data",
     "data": {
      "image/png": "[encoded data removed]",
      "text/plain": [
       "<Figure size 432x288 with 1 Axes>"
      ]
     },
     "metadata": {
      "needs_background": "light"
     }
    }
   ],
   "metadata": {}
  },
  {
   "cell_type": "markdown",
   "source": [
    "* 확인 결과, naver는 높은 평점(4~5)에 분포한 반면 kakao는 골고루 분포되어 있다."
   ],
   "metadata": {}
  },
  {
   "cell_type": "markdown",
   "source": [
    "3. website별 comment 길이"
   ],
   "metadata": {}
  },
  {
   "cell_type": "code",
   "execution_count": 144,
   "source": [
    "df['length_of_comment'] = df['comment'].apply(lambda x: len(x))\n",
    "\n",
    "df.tail(3)"
   ],
   "outputs": [
    {
     "output_type": "execute_result",
     "data": {
      "text/html": [
       "<div>\n",
       "<style scoped>\n",
       "    .dataframe tbody tr th:only-of-type {\n",
       "        vertical-align: middle;\n",
       "    }\n",
       "\n",
       "    .dataframe tbody tr th {\n",
       "        vertical-align: top;\n",
       "    }\n",
       "\n",
       "    .dataframe thead th {\n",
       "        text-align: right;\n",
       "    }\n",
       "</style>\n",
       "<table border=\"1\" class=\"dataframe\">\n",
       "  <thead>\n",
       "    <tr style=\"text-align: right;\">\n",
       "      <th></th>\n",
       "      <th>rating</th>\n",
       "      <th>comment</th>\n",
       "      <th>date</th>\n",
       "      <th>web</th>\n",
       "      <th>final_rating</th>\n",
       "      <th>length_of_comment</th>\n",
       "    </tr>\n",
       "  </thead>\n",
       "  <tbody>\n",
       "    <tr>\n",
       "      <th>97</th>\n",
       "      <td>5.0</td>\n",
       "      <td>좋아요</td>\n",
       "      <td>2021-05-20</td>\n",
       "      <td>naver</td>\n",
       "      <td>4.47</td>\n",
       "      <td>3</td>\n",
       "    </tr>\n",
       "    <tr>\n",
       "      <th>98</th>\n",
       "      <td>5.0</td>\n",
       "      <td>친절하세요</td>\n",
       "      <td>2021-05-19</td>\n",
       "      <td>naver</td>\n",
       "      <td>4.47</td>\n",
       "      <td>5</td>\n",
       "    </tr>\n",
       "    <tr>\n",
       "      <th>99</th>\n",
       "      <td>4.0</td>\n",
       "      <td>친절하고 좋습니다.</td>\n",
       "      <td>2021-05-19</td>\n",
       "      <td>naver</td>\n",
       "      <td>4.47</td>\n",
       "      <td>10</td>\n",
       "    </tr>\n",
       "  </tbody>\n",
       "</table>\n",
       "</div>"
      ],
      "text/plain": [
       "    rating     comment       date    web  final_rating  length_of_comment\n",
       "97     5.0         좋아요 2021-05-20  naver          4.47                  3\n",
       "98     5.0       친절하세요 2021-05-19  naver          4.47                  5\n",
       "99     4.0  친절하고 좋습니다. 2021-05-19  naver          4.47                 10"
      ]
     },
     "metadata": {},
     "execution_count": 144
    }
   ],
   "metadata": {}
  },
  {
   "cell_type": "code",
   "execution_count": 145,
   "source": [
    "comment_length_to_rating = df[['rating', 'length_of_comment', 'web']]\n"
   ],
   "outputs": [],
   "metadata": {}
  },
  {
   "cell_type": "code",
   "execution_count": 169,
   "source": [
    "plt.figure(figsize=(7, 4))\n",
    "fig, ax = plt.subplots()\n",
    "sns.barplot(x=\"rating\", y=\"length_of_comment\",\n",
    "               data=comment_length_to_rating, hue=\"web\", ax=ax)\n",
    "ax.set_title(\"코멘트 길이에 따른 rating 분포\")\n"
   ],
   "outputs": [
    {
     "output_type": "execute_result",
     "data": {
      "text/plain": [
       "Text(0.5, 1.0, '코멘트 길이에 따른 rating 분포')"
      ]
     },
     "metadata": {},
     "execution_count": 169
    },
    {
     "output_type": "display_data",
     "data": {
      "text/plain": [
       "<Figure size 504x288 with 0 Axes>"
      ]
     },
     "metadata": {}
    },
    {
     "output_type": "display_data",
     "data": {
      "image/png": "[encoded data removed]",
      "text/plain": [
       "<Figure size 432x288 with 1 Axes>"
      ]
     },
     "metadata": {
      "needs_background": "light"
     }
    }
   ],
   "metadata": {}
  },
  {
   "cell_type": "markdown",
   "source": [
    "* naver에 비해 대체로 낮은 평점에 분포하는 kakao의 경우, 평점이 낮을수록 코멘트의 길이가 길어졌다.\n",
    "* naver는 평점에 관계 없이 대체로 코멘트의 길이가 짧은 편이다."
   ],
   "metadata": {}
  },
  {
   "cell_type": "markdown",
   "source": [
    "4. 날짜별 코멘트 분포"
   ],
   "metadata": {}
  },
  {
   "cell_type": "code",
   "execution_count": 155,
   "source": [
    "date_and_web = df[['date', 'web']]"
   ],
   "outputs": [],
   "metadata": {}
  },
  {
   "cell_type": "code",
   "execution_count": 173,
   "source": [
    "plt.figure(figsize=(7, 4))\n",
    "fig, ax = plt.subplots()\n",
    "sns.kdeplot(x=\"date\", data=date_and_web, hue=\"web\", ax=ax)\n",
    "ax.set_title(\"날짜별 코멘트 분포\")\n",
    "plt.xticks(rotation=45)\n",
    "\n"
   ],
   "outputs": [
    {
     "output_type": "execute_result",
     "data": {
      "text/plain": [
       "(array([18444., 18506., 18567., 18628., 18687., 18748., 18809., 18871.,\n",
       "        18932., 18993.]),\n",
       " [Text(0, 0, ''),\n",
       "  Text(0, 0, ''),\n",
       "  Text(0, 0, ''),\n",
       "  Text(0, 0, ''),\n",
       "  Text(0, 0, ''),\n",
       "  Text(0, 0, ''),\n",
       "  Text(0, 0, ''),\n",
       "  Text(0, 0, ''),\n",
       "  Text(0, 0, ''),\n",
       "  Text(0, 0, '')])"
      ]
     },
     "metadata": {},
     "execution_count": 173
    },
    {
     "output_type": "display_data",
     "data": {
      "text/plain": [
       "<Figure size 504x288 with 0 Axes>"
      ]
     },
     "metadata": {}
    },
    {
     "output_type": "display_data",
     "data": {
      "image/png": "[encoded data removed]",
      "text/plain": [
       "<Figure size 432x288 with 1 Axes>"
      ]
     },
     "metadata": {
      "needs_background": "light"
     }
    }
   ],
   "metadata": {}
  },
  {
   "cell_type": "markdown",
   "source": [
    "* 카카오에 비해 네이버 리뷰는 비교적 최근(현재 2021-09-06)에 분포되어 있다."
   ],
   "metadata": {}
  },
  {
   "cell_type": "markdown",
   "source": [],
   "metadata": {}
  }
 ],
 "metadata": {
  "orig_nbformat": 4,
  "language_info": {
   "name": "python",
   "version": "3.8.9",
   "mimetype": "text/x-python",
   "codemirror_mode": {
    "name": "ipython",
    "version": 3
   },
   "pygments_lexer": "ipython3",
   "nbconvert_exporter": "python",
   "file_extension": ".py"
  },
  "kernelspec": {
   "name": "python3",
   "display_name": "Python 3.8.9 64-bit"
  },
  "interpreter": {
   "hash": "4cd7ab41f5fca4b9b44701077e38c5ffd31fe66a6cab21e0214b68d958d0e462"
  }
 },
 "nbformat": 4,
 "nbformat_minor": 2
}